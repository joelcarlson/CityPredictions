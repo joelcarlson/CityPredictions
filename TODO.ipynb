{
 "cells": [
  {
   "cell_type": "markdown",
   "metadata": {},
   "source": [
    "# To Do\n",
    "\n",
    "This is a running to do list and accomplishment log"
   ]
  },
  {
   "cell_type": "markdown",
   "metadata": {},
   "source": [
    "# Monday June 20\n",
    "\n",
    "#### Completed:\n",
    "    \n",
    "  - Reorganized repo\n",
    "  - Built make file\n",
    "  - Finished extracting data from SLA HTML source files\n",
    "  - Mergeed latitude and longitude coordinates from zipcode R package\n",
    "  - Mergeed .gov liquor data with SLA data (more precise lat longs)\n",
    "  - Converted .mdb files to CSV files for consumption\n",
    "    - Will likely not be used, lacking time series information\n",
    "    \n",
    "#### Difficulties\n",
    "\n",
    "  - Spent too much time aimlessly cleaning data\n",
    "    - Need better direction/goals\n",
    "  - Wasted time getting data out of those hideous MSaccess files\n",
    "    - Turned out to not be useful\n",
    "  - Haven't yet defined prediction target or refined the valuation data, arguably the most important stuff"
   ]
  },
  {
   "cell_type": "markdown",
   "metadata": {},
   "source": [
    "# Tuesday June 21\n",
    "\n",
    "  \n",
    "#### Completed:\n",
    "  \n",
    "  - Built first babysteps model\n",
    "    - Using a prediction target I don't plan to use\n",
    "    - Without most of the features\n",
    "    \n",
    "  - Merge zillow data with liquor data and amenity distance data\n",
    "  - Aggregate liquor data by quarter (counts? number applied for? number expired?)\n",
    "  - Extracted XML data from rec locations\n",
    "    - Saved to a dataframe and complete\n",
    "  - Explored the restaurant inspection data and it appears to be very rich\n",
    "    - need to find DOMM website to understand what the scores mean, but looks simple\n",
    "    - Need to merge with liquor data\n",
    "  - Make final decision on what data to use\n",
    "    - Going to use liquor, food ins, amenities, and ZHVI to predict the year over year change in rent by area.\n",
    "    - Alternate: year over year change in listing vs selling price\n",
    "      - Should check how many zip codes had a situation in which their median difference went up then down or vice versa\n",
    "    - Aggregated all data by zip\n",
    "      - It's not as granular as I would like, but it is the most common area metric, will be easiy to map, all my data has it, etc\n"
   ]
  },
  {
   "cell_type": "markdown",
   "metadata": {},
   "source": [
    "# Wednesday June 22\n",
    "\n",
    "#### To do:\n",
    "\n",
    "  - Create a function which calculates distance to each amenity given zip and lat/long coordinates\n",
    "    - going to make sense to spread the data, then calc dist, then re-melt...yuck\n",
    "  - Modeling! Make sure to define proper prediction target, deal and understand the zillow data, \n",
    "\n",
    "\n",
    "  \n",
    "#### Completed:\n",
    "  \n",
    "\n",
    "\n"
   ]
  },
  {
   "cell_type": "markdown",
   "metadata": {},
   "source": [
    "# To do overall\n",
    "\n",
    "  - Mock up site design\n",
    "  - Think about what analytics to put up when the user clicks an area\n",
    "  - Get map bounding boxes for areas or zips or whatever you decide to use \n",
    "  - Think about presentation story\n",
    "    - \"Before I begin this presentation I want you to think about why this house, which my parents just sold in Calgary Alberta was sold for less than 80% of list price, while this hom (shitty home in NY) sold for double what it was listed for. Of course, you are thinking \"well obviously NY is a desirable palce to live\", well, wasn't NY a desirable place to live 5 years ago? (graph showing trend in diff between listing and selling, or mention ho this sint necessarily consistent all over NY). What are the factors that are leading to this? More importantly, can we predict whch areas of a city are most likely to experience price increases over and above regular inflation? \n",
    "    - \"I wanted to answer this question, but wanted to do so using features that I thought were novel, which led me to two factors: \"\n"
   ]
  }
 ],
 "metadata": {
  "kernelspec": {
   "display_name": "Python 2",
   "language": "python",
   "name": "python2"
  },
  "language_info": {
   "codemirror_mode": {
    "name": "ipython",
    "version": 2
   },
   "file_extension": ".py",
   "mimetype": "text/x-python",
   "name": "python",
   "nbconvert_exporter": "python",
   "pygments_lexer": "ipython2",
   "version": "2.7.11"
  }
 },
 "nbformat": 4,
 "nbformat_minor": 0
}
