{
 "cells": [
  {
   "cell_type": "code",
   "execution_count": 1,
   "metadata": {
    "collapsed": true
   },
   "outputs": [],
   "source": [
    "import pandas as pd\n",
    "import matplotlib.pyplot as plt\n",
    "%matplotlib inline"
   ]
  },
  {
   "cell_type": "code",
   "execution_count": 49,
   "metadata": {
    "collapsed": false
   },
   "outputs": [
    {
     "name": "stdout",
     "output_type": "stream",
     "text": [
      "\u001b[1m\u001b[36mCSVs\u001b[m\u001b[m/               \u001b[1m\u001b[36mintermediate\u001b[m\u001b[m/       \u001b[1m\u001b[36mscraped_HTML_files\u001b[m\u001b[m/\r\n"
     ]
    }
   ],
   "source": [
    "ls ../data/Liquor\n"
   ]
  },
  {
   "cell_type": "code",
   "execution_count": 50,
   "metadata": {
    "collapsed": true
   },
   "outputs": [],
   "source": [
    "dat = pd.read_csv('../data/Liquor/intermediate/All_Licenses_with_issued_date.csv')"
   ]
  },
  {
   "cell_type": "code",
   "execution_count": 51,
   "metadata": {
    "collapsed": false
   },
   "outputs": [
    {
     "data": {
      "text/plain": [
       "(134596, 10)"
      ]
     },
     "execution_count": 51,
     "metadata": {},
     "output_type": "execute_result"
    }
   ],
   "source": [
    "dat.shape"
   ]
  },
  {
   "cell_type": "code",
   "execution_count": 52,
   "metadata": {
    "collapsed": false
   },
   "outputs": [
    {
     "data": {
      "text/html": [
       "<div>\n",
       "<table border=\"1\" class=\"dataframe\">\n",
       "  <thead>\n",
       "    <tr style=\"text-align: right;\">\n",
       "      <th></th>\n",
       "      <th>premises_name</th>\n",
       "      <th>address</th>\n",
       "      <th>license_class</th>\n",
       "      <th>license_type</th>\n",
       "      <th>expiration_date</th>\n",
       "      <th>license_status</th>\n",
       "      <th>link</th>\n",
       "      <th>zipcode</th>\n",
       "      <th>license_duration</th>\n",
       "      <th>issued_date</th>\n",
       "    </tr>\n",
       "  </thead>\n",
       "  <tbody>\n",
       "    <tr>\n",
       "      <th>0</th>\n",
       "      <td>amtrak n r p corp</td>\n",
       "      <td>penn station under option b new york, ny 10001</td>\n",
       "      <td>250</td>\n",
       "      <td>rr</td>\n",
       "      <td>1998-09-30</td>\n",
       "      <td>expired</td>\n",
       "      <td>/servlet/ApplicationServlet?pageName=com.ibm.n...</td>\n",
       "      <td>10001</td>\n",
       "      <td>730</td>\n",
       "      <td>1996-09-30</td>\n",
       "    </tr>\n",
       "    <tr>\n",
       "      <th>1</th>\n",
       "      <td>amtrak n r p corp</td>\n",
       "      <td>penn station under option b new york, ny 10001</td>\n",
       "      <td>250</td>\n",
       "      <td>rr</td>\n",
       "      <td>1998-09-30</td>\n",
       "      <td>expired</td>\n",
       "      <td>/servlet/ApplicationServlet?pageName=com.ibm.n...</td>\n",
       "      <td>10001</td>\n",
       "      <td>730</td>\n",
       "      <td>1996-09-30</td>\n",
       "    </tr>\n",
       "    <tr>\n",
       "      <th>2</th>\n",
       "      <td>amtrak n r p corp</td>\n",
       "      <td>penn station under option b new york, ny 10001</td>\n",
       "      <td>250</td>\n",
       "      <td>rr</td>\n",
       "      <td>1998-09-30</td>\n",
       "      <td>expired</td>\n",
       "      <td>/servlet/ApplicationServlet?pageName=com.ibm.n...</td>\n",
       "      <td>10001</td>\n",
       "      <td>730</td>\n",
       "      <td>1996-09-30</td>\n",
       "    </tr>\n",
       "    <tr>\n",
       "      <th>3</th>\n",
       "      <td>amtrak n r p corp</td>\n",
       "      <td>penn station under option b new york, ny 10001</td>\n",
       "      <td>250</td>\n",
       "      <td>rr</td>\n",
       "      <td>1998-09-30</td>\n",
       "      <td>expired</td>\n",
       "      <td>/servlet/ApplicationServlet?pageName=com.ibm.n...</td>\n",
       "      <td>10001</td>\n",
       "      <td>730</td>\n",
       "      <td>1996-09-30</td>\n",
       "    </tr>\n",
       "    <tr>\n",
       "      <th>4</th>\n",
       "      <td>amtrak n r p corp</td>\n",
       "      <td>penn station under option b new york, ny 10001</td>\n",
       "      <td>250</td>\n",
       "      <td>rr</td>\n",
       "      <td>1998-09-30</td>\n",
       "      <td>expired</td>\n",
       "      <td>/servlet/ApplicationServlet?pageName=com.ibm.n...</td>\n",
       "      <td>10001</td>\n",
       "      <td>730</td>\n",
       "      <td>1996-09-30</td>\n",
       "    </tr>\n",
       "  </tbody>\n",
       "</table>\n",
       "</div>"
      ],
      "text/plain": [
       "       premises_name                                         address  \\\n",
       "0  amtrak n r p corp  penn station under option b new york, ny 10001   \n",
       "1  amtrak n r p corp  penn station under option b new york, ny 10001   \n",
       "2  amtrak n r p corp  penn station under option b new york, ny 10001   \n",
       "3  amtrak n r p corp  penn station under option b new york, ny 10001   \n",
       "4  amtrak n r p corp  penn station under option b new york, ny 10001   \n",
       "\n",
       "  license_class license_type expiration_date license_status  \\\n",
       "0           250           rr      1998-09-30        expired   \n",
       "1           250           rr      1998-09-30        expired   \n",
       "2           250           rr      1998-09-30        expired   \n",
       "3           250           rr      1998-09-30        expired   \n",
       "4           250           rr      1998-09-30        expired   \n",
       "\n",
       "                                                link  zipcode  \\\n",
       "0  /servlet/ApplicationServlet?pageName=com.ibm.n...    10001   \n",
       "1  /servlet/ApplicationServlet?pageName=com.ibm.n...    10001   \n",
       "2  /servlet/ApplicationServlet?pageName=com.ibm.n...    10001   \n",
       "3  /servlet/ApplicationServlet?pageName=com.ibm.n...    10001   \n",
       "4  /servlet/ApplicationServlet?pageName=com.ibm.n...    10001   \n",
       "\n",
       "   license_duration issued_date  \n",
       "0               730  1996-09-30  \n",
       "1               730  1996-09-30  \n",
       "2               730  1996-09-30  \n",
       "3               730  1996-09-30  \n",
       "4               730  1996-09-30  "
      ]
     },
     "execution_count": 52,
     "metadata": {},
     "output_type": "execute_result"
    }
   ],
   "source": [
    "dat.head()"
   ]
  },
  {
   "cell_type": "code",
   "execution_count": 38,
   "metadata": {
    "collapsed": false
   },
   "outputs": [
    {
     "name": "stdout",
     "output_type": "stream",
     "text": [
      "<class 'pandas.core.frame.DataFrame'>\n",
      "Int64Index: 134595 entries, 0 to 134594\n",
      "Data columns (total 8 columns):\n",
      "premises_name      134578 non-null object\n",
      "address            134595 non-null object\n",
      "license_class      134594 non-null object\n",
      "license_type       134595 non-null object\n",
      "expiration_date    119510 non-null object\n",
      "license_status     134595 non-null object\n",
      "link               134595 non-null object\n",
      "zipcode            134595 non-null int64\n",
      "dtypes: int64(1), object(7)\n",
      "memory usage: 9.2+ MB\n"
     ]
    }
   ],
   "source": [
    "dat.info()"
   ]
  },
  {
   "cell_type": "code",
   "execution_count": 43,
   "metadata": {
    "collapsed": true
   },
   "outputs": [],
   "source": [
    "durations = pd.read_csv('../data/Liquor/license_class_duration.csv', index_col=0)"
   ]
  },
  {
   "cell_type": "code",
   "execution_count": 45,
   "metadata": {
    "collapsed": false
   },
   "outputs": [
    {
     "data": {
      "text/html": [
       "<div>\n",
       "<table border=\"1\" class=\"dataframe\">\n",
       "  <thead>\n",
       "    <tr style=\"text-align: right;\">\n",
       "      <th></th>\n",
       "      <th>License.Class.Code</th>\n",
       "      <th>median_duration</th>\n",
       "      <th>sd</th>\n",
       "      <th>n()</th>\n",
       "    </tr>\n",
       "  </thead>\n",
       "  <tbody>\n",
       "    <tr>\n",
       "      <th>1</th>\n",
       "      <td>101</td>\n",
       "      <td>365</td>\n",
       "      <td>15.741797</td>\n",
       "      <td>153</td>\n",
       "    </tr>\n",
       "    <tr>\n",
       "      <th>2</th>\n",
       "      <td>102</td>\n",
       "      <td>365</td>\n",
       "      <td>379.362788</td>\n",
       "      <td>8</td>\n",
       "    </tr>\n",
       "    <tr>\n",
       "      <th>3</th>\n",
       "      <td>103</td>\n",
       "      <td>365</td>\n",
       "      <td>32.273416</td>\n",
       "      <td>476</td>\n",
       "    </tr>\n",
       "    <tr>\n",
       "      <th>4</th>\n",
       "      <td>104</td>\n",
       "      <td>365</td>\n",
       "      <td>38.183533</td>\n",
       "      <td>122</td>\n",
       "    </tr>\n",
       "    <tr>\n",
       "      <th>5</th>\n",
       "      <td>105</td>\n",
       "      <td>365</td>\n",
       "      <td>54.863418</td>\n",
       "      <td>106</td>\n",
       "    </tr>\n",
       "  </tbody>\n",
       "</table>\n",
       "</div>"
      ],
      "text/plain": [
       "   License.Class.Code  median_duration          sd  n()\n",
       "1                 101              365   15.741797  153\n",
       "2                 102              365  379.362788    8\n",
       "3                 103              365   32.273416  476\n",
       "4                 104              365   38.183533  122\n",
       "5                 105              365   54.863418  106"
      ]
     },
     "execution_count": 45,
     "metadata": {},
     "output_type": "execute_result"
    }
   ],
   "source": [
    "durations.head()"
   ]
  },
  {
   "cell_type": "markdown",
   "metadata": {},
   "source": [
    "### The goal here is to"
   ]
  }
 ],
 "metadata": {
  "kernelspec": {
   "display_name": "Python 2",
   "language": "python",
   "name": "python2"
  },
  "language_info": {
   "codemirror_mode": {
    "name": "ipython",
    "version": 2
   },
   "file_extension": ".py",
   "mimetype": "text/x-python",
   "name": "python",
   "nbconvert_exporter": "python",
   "pygments_lexer": "ipython2",
   "version": "2.7.11"
  }
 },
 "nbformat": 4,
 "nbformat_minor": 0
}
