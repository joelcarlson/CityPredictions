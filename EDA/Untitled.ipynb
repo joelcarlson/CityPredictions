{
 "cells": [
  {
   "cell_type": "code",
   "execution_count": 1,
   "metadata": {
    "collapsed": true
   },
   "outputs": [],
   "source": [
    "import pandas as pd\n",
    "import matplotlib.pyplot as plt\n",
    "%matplotlib inline"
   ]
  },
  {
   "cell_type": "code",
   "execution_count": 4,
   "metadata": {
    "collapsed": false
   },
   "outputs": [
    {
     "name": "stdout",
     "output_type": "stream",
     "text": [
      "All_Licenses.csv                                        Liquor_Authority_Quarterly_List_of_Active_Licenses.csv\r\n",
      "All_Licenses_v02.csv                                    license_class_duration.csv\r\n",
      "All_Licenses_v03.csv\r\n"
     ]
    }
   ],
   "source": [
    "ls ../data/Liquor/intermediate\n"
   ]
  },
  {
   "cell_type": "code",
   "execution_count": 8,
   "metadata": {
    "collapsed": false
   },
   "outputs": [],
   "source": [
    "dat = pd.read_csv('../data/Liquor/intermediate/All_Licenses_v03.csv')"
   ]
  },
  {
   "cell_type": "code",
   "execution_count": 9,
   "metadata": {
    "collapsed": false
   },
   "outputs": [
    {
     "data": {
      "text/plain": [
       "(134619, 15)"
      ]
     },
     "execution_count": 9,
     "metadata": {},
     "output_type": "execute_result"
    }
   ],
   "source": [
    "dat.shape"
   ]
  },
  {
   "cell_type": "code",
   "execution_count": 10,
   "metadata": {
    "collapsed": false
   },
   "outputs": [
    {
     "data": {
      "text/html": [
       "<div>\n",
       "<table border=\"1\" class=\"dataframe\">\n",
       "  <thead>\n",
       "    <tr style=\"text-align: right;\">\n",
       "      <th></th>\n",
       "      <th>premises_name</th>\n",
       "      <th>address</th>\n",
       "      <th>license_class</th>\n",
       "      <th>license_type</th>\n",
       "      <th>expiration_date</th>\n",
       "      <th>license_status</th>\n",
       "      <th>link</th>\n",
       "      <th>zipcode</th>\n",
       "      <th>license_duration</th>\n",
       "      <th>issued_date</th>\n",
       "      <th>zip</th>\n",
       "      <th>city</th>\n",
       "      <th>state</th>\n",
       "      <th>latitude</th>\n",
       "      <th>longitude</th>\n",
       "    </tr>\n",
       "  </thead>\n",
       "  <tbody>\n",
       "    <tr>\n",
       "      <th>0</th>\n",
       "      <td>amtrak n r p corp</td>\n",
       "      <td>penn station under option b new york, ny 10001</td>\n",
       "      <td>250</td>\n",
       "      <td>rr</td>\n",
       "      <td>1998-09-30</td>\n",
       "      <td>expired</td>\n",
       "      <td>/servlet/ApplicationServlet?pageName=com.ibm.n...</td>\n",
       "      <td>10001</td>\n",
       "      <td>730</td>\n",
       "      <td>1996-09-30</td>\n",
       "      <td>10001</td>\n",
       "      <td>New York</td>\n",
       "      <td>NY</td>\n",
       "      <td>40.750742</td>\n",
       "      <td>-73.99653</td>\n",
       "    </tr>\n",
       "    <tr>\n",
       "      <th>1</th>\n",
       "      <td>amtrak n r p corp</td>\n",
       "      <td>penn station under option b new york, ny 10001</td>\n",
       "      <td>250</td>\n",
       "      <td>rr</td>\n",
       "      <td>1998-09-30</td>\n",
       "      <td>expired</td>\n",
       "      <td>/servlet/ApplicationServlet?pageName=com.ibm.n...</td>\n",
       "      <td>10001</td>\n",
       "      <td>730</td>\n",
       "      <td>1996-09-30</td>\n",
       "      <td>10001</td>\n",
       "      <td>New York</td>\n",
       "      <td>NY</td>\n",
       "      <td>40.750742</td>\n",
       "      <td>-73.99653</td>\n",
       "    </tr>\n",
       "    <tr>\n",
       "      <th>2</th>\n",
       "      <td>amtrak n r p corp</td>\n",
       "      <td>penn station under option b new york, ny 10001</td>\n",
       "      <td>250</td>\n",
       "      <td>rr</td>\n",
       "      <td>1998-09-30</td>\n",
       "      <td>expired</td>\n",
       "      <td>/servlet/ApplicationServlet?pageName=com.ibm.n...</td>\n",
       "      <td>10001</td>\n",
       "      <td>730</td>\n",
       "      <td>1996-09-30</td>\n",
       "      <td>10001</td>\n",
       "      <td>New York</td>\n",
       "      <td>NY</td>\n",
       "      <td>40.750742</td>\n",
       "      <td>-73.99653</td>\n",
       "    </tr>\n",
       "    <tr>\n",
       "      <th>3</th>\n",
       "      <td>amtrak n r p corp</td>\n",
       "      <td>penn station under option b new york, ny 10001</td>\n",
       "      <td>250</td>\n",
       "      <td>rr</td>\n",
       "      <td>1998-09-30</td>\n",
       "      <td>expired</td>\n",
       "      <td>/servlet/ApplicationServlet?pageName=com.ibm.n...</td>\n",
       "      <td>10001</td>\n",
       "      <td>730</td>\n",
       "      <td>1996-09-30</td>\n",
       "      <td>10001</td>\n",
       "      <td>New York</td>\n",
       "      <td>NY</td>\n",
       "      <td>40.750742</td>\n",
       "      <td>-73.99653</td>\n",
       "    </tr>\n",
       "    <tr>\n",
       "      <th>4</th>\n",
       "      <td>amtrak n r p corp</td>\n",
       "      <td>penn station under option b new york, ny 10001</td>\n",
       "      <td>250</td>\n",
       "      <td>rr</td>\n",
       "      <td>1998-09-30</td>\n",
       "      <td>expired</td>\n",
       "      <td>/servlet/ApplicationServlet?pageName=com.ibm.n...</td>\n",
       "      <td>10001</td>\n",
       "      <td>730</td>\n",
       "      <td>1996-09-30</td>\n",
       "      <td>10001</td>\n",
       "      <td>New York</td>\n",
       "      <td>NY</td>\n",
       "      <td>40.750742</td>\n",
       "      <td>-73.99653</td>\n",
       "    </tr>\n",
       "  </tbody>\n",
       "</table>\n",
       "</div>"
      ],
      "text/plain": [
       "       premises_name                                         address  \\\n",
       "0  amtrak n r p corp  penn station under option b new york, ny 10001   \n",
       "1  amtrak n r p corp  penn station under option b new york, ny 10001   \n",
       "2  amtrak n r p corp  penn station under option b new york, ny 10001   \n",
       "3  amtrak n r p corp  penn station under option b new york, ny 10001   \n",
       "4  amtrak n r p corp  penn station under option b new york, ny 10001   \n",
       "\n",
       "  license_class license_type expiration_date license_status  \\\n",
       "0           250           rr      1998-09-30        expired   \n",
       "1           250           rr      1998-09-30        expired   \n",
       "2           250           rr      1998-09-30        expired   \n",
       "3           250           rr      1998-09-30        expired   \n",
       "4           250           rr      1998-09-30        expired   \n",
       "\n",
       "                                                link  zipcode  \\\n",
       "0  /servlet/ApplicationServlet?pageName=com.ibm.n...    10001   \n",
       "1  /servlet/ApplicationServlet?pageName=com.ibm.n...    10001   \n",
       "2  /servlet/ApplicationServlet?pageName=com.ibm.n...    10001   \n",
       "3  /servlet/ApplicationServlet?pageName=com.ibm.n...    10001   \n",
       "4  /servlet/ApplicationServlet?pageName=com.ibm.n...    10001   \n",
       "\n",
       "   license_duration issued_date    zip      city state   latitude  longitude  \n",
       "0               730  1996-09-30  10001  New York    NY  40.750742  -73.99653  \n",
       "1               730  1996-09-30  10001  New York    NY  40.750742  -73.99653  \n",
       "2               730  1996-09-30  10001  New York    NY  40.750742  -73.99653  \n",
       "3               730  1996-09-30  10001  New York    NY  40.750742  -73.99653  \n",
       "4               730  1996-09-30  10001  New York    NY  40.750742  -73.99653  "
      ]
     },
     "execution_count": 10,
     "metadata": {},
     "output_type": "execute_result"
    }
   ],
   "source": [
    "dat.head()"
   ]
  },
  {
   "cell_type": "code",
   "execution_count": 12,
   "metadata": {
    "collapsed": false
   },
   "outputs": [
    {
     "name": "stdout",
     "output_type": "stream",
     "text": [
      "<class 'pandas.core.frame.DataFrame'>\n",
      "Int64Index: 134619 entries, 0 to 134618\n",
      "Data columns (total 15 columns):\n",
      "premises_name       134602 non-null object\n",
      "address             134619 non-null object\n",
      "license_class       134618 non-null object\n",
      "license_type        134619 non-null object\n",
      "expiration_date     119534 non-null object\n",
      "license_status      134619 non-null object\n",
      "link                134619 non-null object\n",
      "zipcode             134619 non-null int64\n",
      "license_duration    134619 non-null float64\n",
      "issued_date         119534 non-null object\n",
      "zip                 134619 non-null int64\n",
      "city                134619 non-null object\n",
      "state               134619 non-null object\n",
      "latitude            134619 non-null float64\n",
      "longitude           134619 non-null float64\n",
      "dtypes: float64(3), int64(2), object(10)\n",
      "memory usage: 16.4+ MB\n"
     ]
    }
   ],
   "source": [
    "dat.info()"
   ]
  },
  {
   "cell_type": "code",
   "execution_count": 18,
   "metadata": {
    "collapsed": false
   },
   "outputs": [],
   "source": [
    "new_dat = dat[[\"premises_name\", \"expiration_date\", \"license_status\", \"zipcode\", \"issued_date\", \"latitude\", \"longitude\"]]"
   ]
  },
  {
   "cell_type": "code",
   "execution_count": 19,
   "metadata": {
    "collapsed": false
   },
   "outputs": [
    {
     "data": {
      "text/html": [
       "<div>\n",
       "<table border=\"1\" class=\"dataframe\">\n",
       "  <thead>\n",
       "    <tr style=\"text-align: right;\">\n",
       "      <th></th>\n",
       "      <th>premises_name</th>\n",
       "      <th>expiration_date</th>\n",
       "      <th>license_status</th>\n",
       "      <th>zipcode</th>\n",
       "      <th>issued_date</th>\n",
       "      <th>latitude</th>\n",
       "      <th>longitude</th>\n",
       "    </tr>\n",
       "  </thead>\n",
       "  <tbody>\n",
       "    <tr>\n",
       "      <th>0</th>\n",
       "      <td>amtrak n r p corp</td>\n",
       "      <td>1998-09-30</td>\n",
       "      <td>expired</td>\n",
       "      <td>10001</td>\n",
       "      <td>1996-09-30</td>\n",
       "      <td>40.750742</td>\n",
       "      <td>-73.99653</td>\n",
       "    </tr>\n",
       "    <tr>\n",
       "      <th>1</th>\n",
       "      <td>amtrak n r p corp</td>\n",
       "      <td>1998-09-30</td>\n",
       "      <td>expired</td>\n",
       "      <td>10001</td>\n",
       "      <td>1996-09-30</td>\n",
       "      <td>40.750742</td>\n",
       "      <td>-73.99653</td>\n",
       "    </tr>\n",
       "    <tr>\n",
       "      <th>2</th>\n",
       "      <td>amtrak n r p corp</td>\n",
       "      <td>1998-09-30</td>\n",
       "      <td>expired</td>\n",
       "      <td>10001</td>\n",
       "      <td>1996-09-30</td>\n",
       "      <td>40.750742</td>\n",
       "      <td>-73.99653</td>\n",
       "    </tr>\n",
       "    <tr>\n",
       "      <th>3</th>\n",
       "      <td>amtrak n r p corp</td>\n",
       "      <td>1998-09-30</td>\n",
       "      <td>expired</td>\n",
       "      <td>10001</td>\n",
       "      <td>1996-09-30</td>\n",
       "      <td>40.750742</td>\n",
       "      <td>-73.99653</td>\n",
       "    </tr>\n",
       "    <tr>\n",
       "      <th>4</th>\n",
       "      <td>amtrak n r p corp</td>\n",
       "      <td>1998-09-30</td>\n",
       "      <td>expired</td>\n",
       "      <td>10001</td>\n",
       "      <td>1996-09-30</td>\n",
       "      <td>40.750742</td>\n",
       "      <td>-73.99653</td>\n",
       "    </tr>\n",
       "  </tbody>\n",
       "</table>\n",
       "</div>"
      ],
      "text/plain": [
       "       premises_name expiration_date license_status  zipcode issued_date  \\\n",
       "0  amtrak n r p corp      1998-09-30        expired    10001  1996-09-30   \n",
       "1  amtrak n r p corp      1998-09-30        expired    10001  1996-09-30   \n",
       "2  amtrak n r p corp      1998-09-30        expired    10001  1996-09-30   \n",
       "3  amtrak n r p corp      1998-09-30        expired    10001  1996-09-30   \n",
       "4  amtrak n r p corp      1998-09-30        expired    10001  1996-09-30   \n",
       "\n",
       "    latitude  longitude  \n",
       "0  40.750742  -73.99653  \n",
       "1  40.750742  -73.99653  \n",
       "2  40.750742  -73.99653  \n",
       "3  40.750742  -73.99653  \n",
       "4  40.750742  -73.99653  "
      ]
     },
     "execution_count": 19,
     "metadata": {},
     "output_type": "execute_result"
    }
   ],
   "source": [
    "new_dat.head()"
   ]
  },
  {
   "cell_type": "code",
   "execution_count": 21,
   "metadata": {
    "collapsed": false
   },
   "outputs": [
    {
     "data": {
      "text/plain": [
       "license is inactive     81131\n",
       "expired                 27048\n",
       "license is active       23307\n",
       "pending                  3130\n",
       "operating under sapa        3\n",
       "Name: license_status, dtype: int64"
      ]
     },
     "execution_count": 21,
     "metadata": {},
     "output_type": "execute_result"
    }
   ],
   "source": [
    "new_dat.license_status.value_counts()"
   ]
  },
  {
   "cell_type": "markdown",
   "metadata": {},
   "source": [
    "### We sort of have to bail on lat long now - this will be based on zips :(\n"
   ]
  },
  {
   "cell_type": "code",
   "execution_count": 27,
   "metadata": {
    "collapsed": false
   },
   "outputs": [],
   "source": [
    "z = new_dat['expiration_date']\n",
    "#z = pd.to_datetime(new_dat['expiration_date'])"
   ]
  },
  {
   "cell_type": "code",
   "execution_count": 28,
   "metadata": {
    "collapsed": false
   },
   "outputs": [
    {
     "data": {
      "text/plain": [
       "0         1998-09-30\n",
       "1         1998-09-30\n",
       "2         1998-09-30\n",
       "3         1998-09-30\n",
       "4         1998-09-30\n",
       "5         1998-09-30\n",
       "6         2017-09-30\n",
       "7         2017-09-30\n",
       "8         2017-09-30\n",
       "9         2017-09-30\n",
       "10        2017-09-30\n",
       "11        2017-09-30\n",
       "12        2017-09-30\n",
       "13        2017-09-30\n",
       "14        2017-09-30\n",
       "15        2017-09-30\n",
       "16        2017-09-30\n",
       "17        2017-09-30\n",
       "18        2017-09-30\n",
       "19        2017-09-30\n",
       "20        2017-09-30\n",
       "21        2017-09-30\n",
       "22        2017-09-30\n",
       "23        2017-09-30\n",
       "24        2017-09-30\n",
       "25        2017-09-30\n",
       "26        2017-09-30\n",
       "27        2017-09-30\n",
       "28        2017-09-30\n",
       "29        2017-09-30\n",
       "             ...    \n",
       "134589    2014-02-28\n",
       "134590    2011-10-31\n",
       "134591    2015-10-31\n",
       "134592    2017-02-28\n",
       "134593    2008-03-31\n",
       "134594           NaN\n",
       "134595    2002-04-17\n",
       "134596    2018-05-31\n",
       "134597    2006-04-30\n",
       "134598    2016-12-31\n",
       "134599           NaN\n",
       "134600           NaN\n",
       "134601    2017-05-31\n",
       "134602    2005-07-18\n",
       "134603    2005-06-23\n",
       "134604    2017-06-30\n",
       "134605           NaN\n",
       "134606    2008-06-30\n",
       "134607    2014-02-28\n",
       "134608    2010-05-31\n",
       "134609    2017-01-31\n",
       "134610    2010-10-31\n",
       "134611    2016-05-31\n",
       "134612    2014-11-30\n",
       "134613    2013-11-30\n",
       "134614    2014-11-30\n",
       "134615    2016-08-31\n",
       "134616    2017-02-28\n",
       "134617    2017-03-31\n",
       "134618           NaN\n",
       "Name: expiration_date, dtype: object"
      ]
     },
     "execution_count": 28,
     "metadata": {},
     "output_type": "execute_result"
    }
   ],
   "source": [
    "z"
   ]
  },
  {
   "cell_type": "code",
   "execution_count": null,
   "metadata": {
    "collapsed": true
   },
   "outputs": [],
   "source": []
  }
 ],
 "metadata": {
  "kernelspec": {
   "display_name": "Python 2",
   "language": "python",
   "name": "python2"
  },
  "language_info": {
   "codemirror_mode": {
    "name": "ipython",
    "version": 2
   },
   "file_extension": ".py",
   "mimetype": "text/x-python",
   "name": "python",
   "nbconvert_exporter": "python",
   "pygments_lexer": "ipython2",
   "version": "2.7.11"
  }
 },
 "nbformat": 4,
 "nbformat_minor": 0
}
