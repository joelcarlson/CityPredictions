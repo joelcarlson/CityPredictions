{
 "cells": [
  {
   "cell_type": "code",
   "execution_count": 1,
   "metadata": {
    "collapsed": true
   },
   "outputs": [],
   "source": [
    "import pandas as pd\n",
    "import matplotlib.pyplot as plt\n",
    "%matplotlib inline"
   ]
  },
  {
   "cell_type": "code",
   "execution_count": 4,
   "metadata": {
    "collapsed": false
   },
   "outputs": [
    {
     "name": "stdout",
     "output_type": "stream",
     "text": [
      "All_Licenses.csv                                        Liquor_Authority_Quarterly_List_of_Active_Licenses.csv\r\n",
      "\u001b[1m\u001b[36mCSVs\u001b[m\u001b[m/                                                   \u001b[1m\u001b[36mscraped_HTML_files\u001b[m\u001b[m/\r\n"
     ]
    }
   ],
   "source": [
    "ls ../data/Liquor\n"
   ]
  },
  {
   "cell_type": "code",
   "execution_count": 24,
   "metadata": {
    "collapsed": true
   },
   "outputs": [],
   "source": [
    "dat = pd.read_csv('../data/Liquor/All_Licenses.csv')"
   ]
  },
  {
   "cell_type": "code",
   "execution_count": 25,
   "metadata": {
    "collapsed": false
   },
   "outputs": [
    {
     "data": {
      "text/plain": [
       "(134595, 8)"
      ]
     },
     "execution_count": 25,
     "metadata": {},
     "output_type": "execute_result"
    }
   ],
   "source": [
    "dat.shape"
   ]
  },
  {
   "cell_type": "code",
   "execution_count": 26,
   "metadata": {
    "collapsed": false
   },
   "outputs": [
    {
     "data": {
      "text/html": [
       "<div>\n",
       "<table border=\"1\" class=\"dataframe\">\n",
       "  <thead>\n",
       "    <tr style=\"text-align: right;\">\n",
       "      <th></th>\n",
       "      <th>premises_name</th>\n",
       "      <th>address</th>\n",
       "      <th>license_class</th>\n",
       "      <th>license_type</th>\n",
       "      <th>expiration_date</th>\n",
       "      <th>license_status</th>\n",
       "      <th>link</th>\n",
       "      <th>zipcode</th>\n",
       "    </tr>\n",
       "  </thead>\n",
       "  <tbody>\n",
       "    <tr>\n",
       "      <th>0</th>\n",
       "      <td>amtrak n r p corp</td>\n",
       "      <td>penn station under option b new york, ny 10001</td>\n",
       "      <td>250</td>\n",
       "      <td>rr</td>\n",
       "      <td>09/30/1998</td>\n",
       "      <td>expired</td>\n",
       "      <td>/servlet/ApplicationServlet?pageName=com.ibm.n...</td>\n",
       "      <td>10001</td>\n",
       "    </tr>\n",
       "    <tr>\n",
       "      <th>1</th>\n",
       "      <td>amtrak n r p corp</td>\n",
       "      <td>penn station under option b new york, ny 10001</td>\n",
       "      <td>250</td>\n",
       "      <td>rr</td>\n",
       "      <td>09/30/1998</td>\n",
       "      <td>expired</td>\n",
       "      <td>/servlet/ApplicationServlet?pageName=com.ibm.n...</td>\n",
       "      <td>10001</td>\n",
       "    </tr>\n",
       "    <tr>\n",
       "      <th>2</th>\n",
       "      <td>amtrak n r p corp</td>\n",
       "      <td>penn station under option b new york, ny 10001</td>\n",
       "      <td>250</td>\n",
       "      <td>rr</td>\n",
       "      <td>09/30/1998</td>\n",
       "      <td>expired</td>\n",
       "      <td>/servlet/ApplicationServlet?pageName=com.ibm.n...</td>\n",
       "      <td>10001</td>\n",
       "    </tr>\n",
       "    <tr>\n",
       "      <th>3</th>\n",
       "      <td>amtrak n r p corp</td>\n",
       "      <td>penn station under option b new york, ny 10001</td>\n",
       "      <td>250</td>\n",
       "      <td>rr</td>\n",
       "      <td>09/30/1998</td>\n",
       "      <td>expired</td>\n",
       "      <td>/servlet/ApplicationServlet?pageName=com.ibm.n...</td>\n",
       "      <td>10001</td>\n",
       "    </tr>\n",
       "    <tr>\n",
       "      <th>4</th>\n",
       "      <td>amtrak n r p corp</td>\n",
       "      <td>penn station under option b new york, ny 10001</td>\n",
       "      <td>250</td>\n",
       "      <td>rr</td>\n",
       "      <td>09/30/1998</td>\n",
       "      <td>expired</td>\n",
       "      <td>/servlet/ApplicationServlet?pageName=com.ibm.n...</td>\n",
       "      <td>10001</td>\n",
       "    </tr>\n",
       "  </tbody>\n",
       "</table>\n",
       "</div>"
      ],
      "text/plain": [
       "       premises_name                                         address  \\\n",
       "0  amtrak n r p corp  penn station under option b new york, ny 10001   \n",
       "1  amtrak n r p corp  penn station under option b new york, ny 10001   \n",
       "2  amtrak n r p corp  penn station under option b new york, ny 10001   \n",
       "3  amtrak n r p corp  penn station under option b new york, ny 10001   \n",
       "4  amtrak n r p corp  penn station under option b new york, ny 10001   \n",
       "\n",
       "  license_class license_type expiration_date license_status  \\\n",
       "0           250           rr      09/30/1998        expired   \n",
       "1           250           rr      09/30/1998        expired   \n",
       "2           250           rr      09/30/1998        expired   \n",
       "3           250           rr      09/30/1998        expired   \n",
       "4           250           rr      09/30/1998        expired   \n",
       "\n",
       "                                                link  zipcode  \n",
       "0  /servlet/ApplicationServlet?pageName=com.ibm.n...    10001  \n",
       "1  /servlet/ApplicationServlet?pageName=com.ibm.n...    10001  \n",
       "2  /servlet/ApplicationServlet?pageName=com.ibm.n...    10001  \n",
       "3  /servlet/ApplicationServlet?pageName=com.ibm.n...    10001  \n",
       "4  /servlet/ApplicationServlet?pageName=com.ibm.n...    10001  "
      ]
     },
     "execution_count": 26,
     "metadata": {},
     "output_type": "execute_result"
    }
   ],
   "source": [
    "dat.head()"
   ]
  },
  {
   "cell_type": "code",
   "execution_count": 33,
   "metadata": {
    "collapsed": false
   },
   "outputs": [
    {
     "name": "stdout",
     "output_type": "stream",
     "text": [
      "<class 'pandas.core.frame.DataFrame'>\n",
      "Int64Index: 134595 entries, 0 to 134594\n",
      "Data columns (total 8 columns):\n",
      "premises_name      134578 non-null object\n",
      "address            134595 non-null object\n",
      "license_class      134594 non-null object\n",
      "license_type       134595 non-null object\n",
      "expiration_date    119510 non-null object\n",
      "license_status     134595 non-null object\n",
      "link               134595 non-null object\n",
      "zipcode            134595 non-null int64\n",
      "dtypes: int64(1), object(7)\n",
      "memory usage: 9.2+ MB\n"
     ]
    }
   ],
   "source": [
    "dat.info()"
   ]
  },
  {
   "cell_type": "code",
   "execution_count": null,
   "metadata": {
    "collapsed": true
   },
   "outputs": [],
   "source": []
  }
 ],
 "metadata": {
  "kernelspec": {
   "display_name": "Python 2",
   "language": "python",
   "name": "python2"
  },
  "language_info": {
   "codemirror_mode": {
    "name": "ipython",
    "version": 2
   },
   "file_extension": ".py",
   "mimetype": "text/x-python",
   "name": "python",
   "nbconvert_exporter": "python",
   "pygments_lexer": "ipython2",
   "version": "2.7.11"
  }
 },
 "nbformat": 4,
 "nbformat_minor": 0
}
